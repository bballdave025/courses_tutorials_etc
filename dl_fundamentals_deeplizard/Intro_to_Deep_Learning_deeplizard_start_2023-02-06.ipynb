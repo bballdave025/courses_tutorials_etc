{
 "cells": [
  {
   "cell_type": "markdown",
   "id": "bd5de66e",
   "metadata": {},
   "source": [
    "# Going Through the Tutorial on Deep Learning from @deeplizard on YouTube\n",
    "\n",
    "<hr/>\n",
    "\n",
    "@since 2023-02-06 ; With a new log for `conda` use @since 2023-02-18\n",
    "\n",
    "<hr/>\n",
    "\n",
    "## Not worrying about data (since she usually just talks about another video where you can find it). Focusing on code framework.\n",
    "\n",
    "I hope that's cool with me. Yep, it is; I checked.\n",
    "\n",
    "<hr/>\n",
    "\n",
    "## Very Beginning Stuff\n",
    "\n",
    "Using Windows (on our home Lappy) to get started.\n",
    "\n",
    "Intro to Deep Learning Playlist<br/>\n",
    "https://youtube.com/playlist?list=PLZbbT5o_s2xq7LwI2y8_QtvuXZedL6tQU\n",
    "\n",
    "Now that I'm on YouTube, I can see that the title, author, and description of the playlist.\n",
    "\n",
    "**Deep Learning Fundamentals - Intro to Neural Networks**<br/>\n",
    "**deeplizard**<br/>\n",
    "_38 videos_<br/>\n",
    "This series explains concepts that are fundamental to deep learning and artificial neural networks for beginners. In addition to covering these concepts, we also show how to implement some of the concepts in code using Keras, a neural network API written in Python. We will learn about layers in an artificial neural network, activation functions, backpropagation, convolutional neural networks (CNNs), data augmentation, transfer learning and much more!\n",
    "\n",
    "Installing Python and Jupyter Notebook<br/>\n",
    "https://medium.com/@kswalawage/install-python-and-jupyter-notebook-to-windows-10-64-bit-66db782e1d02\n",
    "\n",
    "_Note that I use `conda` this time, so the Python installation isn't too important. It's actually unnecessary for the tutorial. It's not too bad to know that I installed it, though._\n",
    "\n",
    "<br/>\n",
    "<strike>\n",
    "_Note that I didn't do the lengthening of MAX_PATH, nor did I put the install in a nicer place. I'll live with it._\n",
    "\n",
    "_Later note 2023-02-09: I couldn't live with it - it wouldn't let me install TensorFlow. I'll be adding details on getting the longer path.<br/>I'm actually going to rename this notebook, take out the just-python try, and do conda (so there isn't so much superfluous output, and so I can do it more easily next time.)_\n",
    "</strike>\n",
    "<br/>\n",
    "\n",
    "_This is the new one, starting 2023-02-18_\n",
    "\n",
    "This time, I'll show how `conda` and other stuff were taken care of.\n",
    "\n",
    "<hr/>\n",
    "\n",
    "### Some preliminary, instruction-finding sources\n",
    "\n",
    "https://geekflare.com/install-tensorflow-on-windows-and-linux/\n",
    "\n",
    "miniconda and pip\n",
    "<br/>https://docs.conda.io/en/latest/miniconda.html\n",
    "<br/>https://stackoverflow.com/questions/48720833/could-not-find-a-version-that-satisfies-the-requirement-tensorflow\n",
    "<br/>https://www.tensorflow.org/install/pip#windows-native\n",
    "\n",
    "https://superuser.com/questions/1119883/windows-10-enable-ntfs-long-paths-policy-option-missing\n",
    "<br/>https://superuser.com/questions/1018145/windows-starter-edition-home-and-home-premium-do-not-include-gpedit-how-do-i-i\n",
    "<br/>Okay, need to change it.\n",
    "\n",
    "Followed the instructions from\n",
    "<br/>https://superuser.com/a/1229992/908741\n",
    "<br/>https://superuser.com/questions/1018145/windows-starter-edition-home-and-home-premium-do-not-include-gpedit-how-do-i-i#comment1933601_1229992\n",
    "<br/>https://superuser.com/questions/1018145/windows-starter-edition-home-and-home-premium-do-not-include-gpedit-how-do-i-i#comment2201029_1229992\n",
    "\n",
    "_Note there is a quicker way than what's here in the first quote; look at the first comment below to use that quicker way._\n",
    "\n",
    "> Windows (at least Windows 10 home) comes with Group Policy Editor packages, but it is disabled by default. You can install it just like any other optional feature using `dism`.\n",
    "> \n",
    "> The Group Policy package files can be found in <br/>\n",
    ">`%SystemRoot%\\servicing\\Packages`\n",
    "> \n",
    "> With filenames matching <br/>\n",
    "> `Microsoft-Windows-GroupPolicy-ClientExtensions-Package*.mum`<br/>\n",
    ">`Microsoft-Windows-GroupPolicy-ClientTools-Package*.mum`\n",
    "> \n",
    "> And command for installing would follow the following format:\n",
    "> \n",
    "> `dism /online /norestart /add-package:\"%SystemRoot%\\servicing\\Packages\\{{PackageFileName}}\"`\n",
    "> \n",
    "> `/online` used to tell it to apply to the running OS\n",
    "> `/norestart` tells it to not auto reboot\n",
    "> \n",
    "> After installing these `gpedit.msc` will be available. No need to download an external executable that you have to trust or find out if it is safe or not.\n",
    "\n",
    "'-------------------------------------------\n",
    "\n",
    "#### (Comments below)\n",
    "\n",
    "##### [What I used for enabling long paths (I think with admin)]\n",
    "\n",
    "> Here is for those impatient <br/> `for /f \"tokens=*\" %G IN ('dir /b \"%SystemRoot%\\servicing\\Packages\\Microsoft-Windows-GroupPolicy-Client*.mum\"') do (dism /online /norestart /add-package:\"%SystemRoot%\\servicing\\Packages\\%G\")`\n",
    "\n",
    "'-------\n",
    "\n",
    "> After installing the packages, if you look at the DISM log, you will see that a reboot was required, but was suppressed with `/norestart`. For me, `gpedit.msc` did not appear under `c:\\windows\\system32` until after I rebooted.\n",
    "\n",
    "**I had to reboot!**\n",
    "\n",
    "'-----------------------\n",
    "\n",
    "Then instructions\n",
    "<br/>https://superuser.com/a/1119980/908741\n",
    "<br/>https://superuser.com/q/1119883/908741\n",
    "<br/>For both `a > b > c > ...` things described.\n",
    "\n",
    "> The web is full of articles, describing what should be done. <br/>\n",
    "> 1.\tHit the <kbd>Windows</kbd> key, type `gpedit.msc` and press <kbd>Enter]</kbd>. <br/>\n",
    "> 2.\tNavigate to <br/>\n",
    "> `Local Computer Policy > Computer Configuration > Administrative Templates > System > Filesystem > NTFS`. <br/>\n",
    "> 3.\tDouble click the `Enable NTFS` long paths option and enable it.\n",
    "\n",
    "and\n",
    "\n",
    "> The value has moved from NTFS directly into `Local Computer Policy > Computer Configuration > Administrative Templates > System > Filesystem` in the RTM version of the Version 1607.\n",
    "\n",
    "So, I enabled the long paths by doing <kbd>Win</kbd> + <kbd>R</kbd>, typing `gpedit.msc`, pressing <kbd>Enter</kbd>, and then clicking whatever allowed enabling long paths through both\n",
    "<br/>`Local Computer Policy > Computer Configuration > Administrative Templates > System > Filesystem > NTFS`\n",
    "<br/>and\n",
    "<br/>`Local Computer Policy > Computer Configuration > Administrative Templates > System > Filesystem`\n",
    "\n",
    "<hr/><hr/>"
   ]
  },
  {
   "cell_type": "markdown",
   "id": "37ae8409",
   "metadata": {},
   "source": [
    "<hr/>\n",
    "\n",
    "## Initial setup. \n",
    "\n",
    "I'm not showing output for a good part of the commands. Near the end, there might be a cell or cells with the full I/O. I might figure out how to put hyperlinks in here, I might not.\n",
    "\n",
    "Here are all the commands with minimal output. I'll put some more output and notes below in the _More I/O_ section and the _All I/O_ sections.\n",
    "\n",
    "<hr/>\n",
    "\n",
    "`Anaconda Prompt (miniconda3)`\n",
    "\n",
    "```\n",
    "(base) C:\\Users\\bballdave025>\n",
    "```\n",
    "\n",
    "Just commands, but note instructions at https://www.purdue.edu/science/scienceit/ssh-keys-windows.html\n",
    "\n",
    "```\n",
    "conda info --envs\n",
    "ssh-keygen\n",
    "type .\\.ssh\\id_rsa.pub\n",
    "```\n",
    "\n",
    "Some I/O\n",
    "\n",
    "```\n",
    "(base) C:\\Users\\bbaldave025l>conda info --envs\n",
    "# conda environments:\n",
    "#\n",
    "base                  *  C:\\Users\\bballdave025\\miniconda3\n",
    "\n",
    ">ssh-keygen\n",
    "Generating public/private rsa key pair.\n",
    "Enter file in which to save the key (C:\\Users\\bballdave025/.ssh/id_rsa):\n",
    "Created directory 'C:\\Users\\bballdave025/.ssh'.\n",
    "Enter passphrase (empty for no passphrase):\n",
    "Enter same passphrase again:\n",
    "Your identification has been saved in C:\\Users\\bballdave025/.ssh/id_rsa.\n",
    "Your public key has been saved in C:\\Users\\bballdave025/.ssh/id_rsa.pub.\n",
    "The key fingerprint is:\n",
    "SHA256:███████████████████████████████████████████ bballdave025@MY-MACHINE\n",
    "The key's randomart image is:\n",
    "+---[RSA 3072]----+\n",
    "| ██   ██   █████ |\n",
    "| ██   ██     █   |\n",
    "| ██   ██     █   |\n",
    "| HHHHHHH     █   |\n",
    "| ███████     I   |\n",
    "| ██   ██     █   |\n",
    "| ██   ██     █ hi|\n",
    "| ██   ██     █   |\n",
    "| ██   ██   █████ |\n",
    "+----[SHA256]-----+\n",
    "\n",
    ">type .\\.ssh\\id_rsa.pub\n",
    "ssh-rsa ███████████████████████████████████████████████████████████████████████████████████████████████████████████████████████████████████████████████████████████████████████████████████████████████████████████████████████████████████████████████████████████████████████████████████████████████████████████████████████████████████████████████████████████████████████████████████████████████████████████████████████████████████████████████████████████████████████████████████████████████████████████████████████████████████████████████████████████████= bballdave025@MY-MACHINE\n",
    "```\n",
    "\n",
    "Copy and paste the output (the contents of `.\\.ssh\\id_rsa.pub`) to my github\n",
    "\n",
    "Now, seeing\n",
    "\n",
    "```\n",
    "(base) C:\\Users\\bballdave025>\n",
    "```\n",
    "\n",
    "Just commands\n",
    "\n",
    "```\n",
    "cd C:\\David\n",
    "mkdir my_repos_dwb\n",
    "cd my_repos_dwb\n",
    "git clone git@github.com:bballdave025/courses_tutorials_etc.git\n",
    "```\n",
    "\n",
    "Some I/O\n",
    "\n",
    "```\n",
    "C:\\David\\my_repos_dwb>git clone git@github.com:bballdave025/courses_tutorials_etc.git\n",
    "Cloning into 'courses_tutorials_etc'...\n",
    "The authenticity of host 'github.com (140.82.112.4)' can't be established.\n",
    "ECDSA key fingerprint is SHA256:p2QAMXNIC1TJYWeIOttrVc98/R1BUFWu3/LiyKgUfQM.\n",
    "Are you sure you want to continue connecting (yes/no/[fingerprint])? yes\n",
    "Warning: Permanently added 'github.com,140.82.112.4' (ECDSA) to the list of known hosts.\n",
    "Enter passphrase for key '/c/Users/bballdave025/.ssh/id_rsa':\n",
    "remote: Enumerating objects: 25, done.\n",
    "remote: Counting objects: 100% (25/25), done.\n",
    "remote: Compressing objects: 100% (22/22), done.\n",
    "remote: Total 25 (delta 7), reused 0 (delta 0), pack-reused 0\n",
    "Receiving objects: 100% (25/25), 33.46 KiB | 329.00 KiB/s, done.\n",
    "Resolving deltas: 100% (7/7), done.\n",
    "C:\\David\\my_repos_dwb>\n",
    "```\n",
    "\n",
    "Just commands\n",
    "\n",
    "```\n",
    "cd courses_tutorials_etc\n",
    "cd dl_fundamentals_deeplizard\n",
    "dir\n",
    "```\n",
    "\n",
    "Some I/O\n",
    "\n",
    "```\n",
    "(base) C:\\David\\my_repos_dwb\\courses_tutorials_etc\\dl_fundamentals_deeplizard>dir\n",
    " Volume in drive C is Windows-SSD\n",
    " Volume Serial Number is ████-████\n",
    "\n",
    " Directory of C:\\David\\my_repos_dwb\\courses_tutorials_etc\\dl_fundamentals_deeplizard\n",
    "\n",
    "02/18/2023  12:21 PM    <DIR>          .\n",
    "02/18/2023  12:21 PM    <DIR>          ..\n",
    "02/18/2023  12:21 PM            90,904 Intro_to_Deep_Learning_deeplizard_start_2023-02-06.ipynb\n",
    "02/18/2023  12:21 PM    <DIR>          other_directions\n",
    "02/18/2023  12:21 PM               155 README.md\n",
    "               2 File(s)         91,059 bytes\n",
    "               3 Dir(s)  17,009,586,176 bytes free\n",
    "```\n",
    "\n",
    "Just commands\n",
    "\n",
    "```\n",
    ":: note my directory\n",
    "dir | findstr Directory\n",
    "conda info --envs\n",
    "```\n",
    "\n",
    "Some I/O\n",
    "\n",
    "```\n",
    ">dir | findstr Directory\n",
    " Directory of C:\\David\\my_repos_dwb\\courses_tutorials_etc\\dl_fundamentals_deeplizard\n",
    "\n",
    ">conda info --envs\n",
    "# conda environments:\n",
    "#\n",
    "base                  *  C:\\Users\\bballdave025\\miniconda3\n",
    "\n",
    "```\n",
    "\n",
    "Just commands\n",
    "\n",
    "```\n",
    "conda create --name \"intro_deep_learning\" python=3.8\n",
    "conda activate intro_deep_learning\n",
    "```\n",
    "\n",
    "And I see that the command prompt looks like the following\n",
    "\n",
    "```\n",
    "(intro_deep_learning) C:\\David\\my_repos_dwb\\courses_tutorials_etc\\dl_fundamentals_deeplizard>\n",
    "```\n",
    "\n",
    "I'm going to install packages before setting up my Jupyter Notebook.\n",
    "\n",
    "(The command for Jupyter Notebook, `jupyter notebook` will eventually give me the following result.)\n",
    "\n",
    "It automatically took me right where I needed to go:<br/>\n",
    "http://localhost:8888/tree<br/>\n",
    "I could have found that from the comments, but there's no need, now.\n",
    "<hr/>"
   ]
  },
  {
   "cell_type": "markdown",
   "id": "247c6985",
   "metadata": {},
   "source": [
    "Oh, and goodness! I prefer the command-line without any IDEs. I can code from the `>>>` and know that what I use can go right into any scripts or more OO code.\n",
    "<hr/>"
   ]
  },
  {
   "cell_type": "markdown",
   "id": "fac0e446",
   "metadata": {},
   "source": [
    "<hr/>\n",
    "\n",
    "## Packages to install\n",
    "\n",
    "```CMD\n",
    "pip install numpy\n",
    "pip install matplotlib\n",
    "pip install scipy\n",
    "pip install opencv-python\n",
    "pip install imageio\n",
    "pip install scikit-learn\n",
    "pip install nbconvert[qtpdf]\n",
    "pip install pandoc\n",
    "```\n",
    "\n",
    "Don't do the following (it's crossed out) <strike>`pip install keras`</strike>\n",
    "\n",
    "&nbsp;&nbsp;&nbsp;&nbsp;&nbsp;`#` Do or check $\\mu$Soft Visual C++ redistributables download - see the notes from Video 1.\n",
    "\n",
    "```cmd\n",
    "pip install tensorflow\n",
    "```\n",
    "\n",
    "I don't know if all of those will be needed, especially `matplotlib` and `opencv` (maybe `scipy` as well), but I know they're useful in general.\n",
    "\n",
    "### The following packages are specific to my use of Jupyter Notebook \n",
    "\n",
    "```\n",
    "# Needed just to print to PDF or to preview to HTML \n",
    "#+ and then Print to PDF\n",
    "# nbconvert[qtpdf]\n",
    "# pandoc\n",
    "```\n",
    "\n",
    "I've probably missed some packages that will be needed for running the tutorial. I'll leave some space here for listing them.\n",
    "\n",
    "```CMD\n",
    "## Things that I didn't install that ended up being needed.\n",
    "# scikit-learn\n",
    "# imageio\n",
    "\n",
    "```\n",
    "\n",
    "I'll come back to install `scikit-learn`, `pytorch`, and some other stuff, later. Actually, maybe not even during this tutorial, unless they come up. (I don't even know if 'cuda', etc. have packages in Python.)\n",
    "\n",
    "<hr/><hr/>"
   ]
  },
  {
   "cell_type": "markdown",
   "id": "a559c8cf",
   "metadata": {},
   "source": [
    "<hr/>\n",
    "\n",
    "## Starting the Tutorial\n",
    "\n",
    "<hr/>"
   ]
  },
  {
   "cell_type": "markdown",
   "id": "53d637e7",
   "metadata": {},
   "source": [
    "<hr/>\n",
    "\n",
    "### Video/Lesson 01: Deep Learning playlist overview & Machine Learning intro\n",
    "\n",
    "Putting in the playlist part of the URL for this first lesson<br/>\n",
    "https://www.youtube.com/watch?v=gZmobeGL0Yg&list=PLZbbT5o_s2xq7LwI2y8_QtvuXZedL6tQU&index=1\n",
    "\n",
    "https://www.youtube.com/watch?v=gZmobeGL0Yg"
   ]
  },
  {
   "cell_type": "code",
   "execution_count": 1,
   "id": "11b07fd5",
   "metadata": {},
   "outputs": [
    {
     "name": "stdout",
     "output_type": "stream",
     "text": [
      "No code here. Enjoy your paradox.\n"
     ]
    }
   ],
   "source": [
    "print(\"No code here. Enjoy your paradox.\")"
   ]
  },
  {
   "cell_type": "markdown",
   "id": "eb4eb838",
   "metadata": {},
   "source": [
    "2023-02-08\n",
    "\n",
    "#### Notes\n",
    "\n",
    "Description of Playlist. Some implementation, but not tons of code or everything you need (data, e.g.). Using Keras. She informs us that the info about what you need to install is at another list.\n",
    "\n",
    "https://youtube.com/playlist?list=PLZbbT5o_s2xrwRnXk_yCPtnqqo4_u2YGL\n",
    "<br/>Deep Learning with Keras and TensorFlow\n",
    "\n",
    "https://youtu.be/tDaGT4N4aCA\n",
    "<br/>Prerequisites, notes that _Keras by itself is no longer maintained_, so you _just install TensorFlow_ (after Visual Studio redistributables are downloaded)\n",
    "\n",
    "https://youtu.be/IubEtS2JAiY\n",
    "<br/>Setting up CUDA GPU; notes that you need C++ redistributables and MS Visual Studio Community\n",
    "\n",
    "Checked for the redistributables via PowerShell. I have them, but if I didn't have them, the place to go would be\n",
    "\n",
    "https://learn.microsoft.com/en-us/cpp/windows/latest-supported-vc-redist?view=msvc-170#visual-studio-2015-2017-2019-and-2022\n",
    "\n",
    "The actual commands, etc. for doing these things is included in the _Packages to Install_ section.\n",
    "\n",
    "2023-02-23\n",
    "\n",
    "Machine Learning _uses_ the data to become able to do the task. No explicit telling the computer how to do it.\n",
    "\n",
    "Sentiment Analysis\n",
    "Rule-based program: Give the program words that are positive, others that are negative, etc.\n",
    "Machine learning program: Algorithm is given large amounts of data and learns which are positive and negative.\n",
    "\n",
    "Both could decide whether a new article is positive or negative.\n",
    "\n",
    "Conclusion:\n",
    "ML consists of using algorithms to: 1) Analyze data; 2) Learn from that data; 3) Make a determination or prediction about new data."
   ]
  },
  {
   "cell_type": "markdown",
   "id": "c378bf9c",
   "metadata": {},
   "source": [
    "<hr/><hr/>\n",
    "\n",
    "### Video/Lesson 02: Deep Learning explained \n",
    "\n",
    "https://www.youtube.com/watch?v=OT1jslLoCyA"
   ]
  },
  {
   "cell_type": "code",
   "execution_count": 2,
   "id": "cb3727c6",
   "metadata": {},
   "outputs": [
    {
     "name": "stdout",
     "output_type": "stream",
     "text": [
      "Code entry here.\n",
      "Code entry here.\n"
     ]
    }
   ],
   "source": [
    "print(\"Code entry here.\")"
   ]
  },
  {
   "cell_type": "markdown",
   "id": "1371b37e",
   "metadata": {},
   "source": [
    "#### Notes\n",
    "\n",
    "2023-02-23\n",
    "\n",
    "What is Deep Learning? We'll start discussing it.\n",
    "\n",
    "This video: most basic idea about what deep learning is and how it's used.\n",
    "\n",
    "Deep Learning = Subfield of ML that use as a model structure and function of the human brain's neural networks. We have **artificial neural networks**.\n",
    "\n",
    "Supervised (from labeled) vs unsupervised (without labels).\n",
    "\n",
    "\"Neural net\", \"net\", \"model\": all refer to Artificial Neural Networks"
   ]
  },
  {
   "cell_type": "markdown",
   "id": "48db41ee",
   "metadata": {},
   "source": [
    "<hr/><hr/>\n",
    "\n",
    "### Video/Lesson 03: Artificial Neural Networks explained\n",
    "\n",
    "https://www.youtube.com/watch?v=hfK_dvC-avg"
   ]
  },
  {
   "cell_type": "code",
   "execution_count": 3,
   "id": "d7717bad",
   "metadata": {},
   "outputs": [],
   "source": [
    "# 2023-02-23\n",
    "\n",
    "from keras.models import Sequential\n",
    "from keras.layers import Dense, Activation\n",
    "\n",
    "n_neurons_in_hidden_layer = 32         # number of nodes \n",
    "                                       #+ or neurons in \n",
    "                                       #+ our layer\n",
    "n_features_input_to_hidden = 10       # shape of data \n",
    "                                       #+ passed (that \n",
    "                                       #+ we're passing \n",
    "                                       #+ into our model\n",
    "my_activation_function_hidden = \"relu\" # typically a \n",
    "                                       #+ nonlinear \n",
    "                                       #+ function that  \n",
    "                                       #+ follows a \n",
    "                                       #+ dense layer\n",
    "n_neurons_in_output_layer = 2          # number of \n",
    "                                       #+ neurons in \n",
    "                                       #+ (the code's)\n",
    "                                       #+ second - or \n",
    "                                       #+ output - layer\n",
    "my_activation_function_output_layer = \"softmax\"\n",
    "                                       # another\n",
    "                                       #+ activation\n",
    "                                       #+ function -\n",
    "                                       #+ 1) nonlinear\n",
    "                                       #+ 2) follows a\n",
    "                                       #+    dense layer\n",
    "\n",
    "# array of two dense layers passed to the 'Sequential' constructor\n",
    "model = Sequential([Dense(n_neurons_in_hidden_layer, \n",
    "                          input_shape=(n_features_input_to_hidden,),\n",
    "                          activation=my_activation_function_hidden),\n",
    "                    Dense(n_neurons_in_output_layer,\n",
    "                          activation=my_activation_function_output_layer)])"
   ]
  },
  {
   "cell_type": "markdown",
   "id": "1edb6373",
   "metadata": {},
   "source": [
    "#### Notes\n",
    "\n",
    "Artificial Neural Networks - Inspired by human brain's neural networks.\n",
    "\n",
    "Connection of artificial units called artificial neurons. Can exchange and pass on signals.\n",
    "\n",
    "Input Layer, Output Layer. Others in between are hidden layers.\n",
    "\n",
    "Image for artificial neural network: She uses something like the image at<br/>\n",
    "https://www.tutorialspoint.com/artificial_intelligence/images/atypical_ann.jpg\n",
    "\n",
    "<br/>\n",
    "\n",
    "<div>\n",
    "  <img src=\"https://www.tutorialspoint.com/artificial_intelligence/images/atypical_ann.jpg\"\n",
    "       alt=\"An image with all inputs connected to all outputs (an actual dense layer)\"\n",
    "       width=\"300px\">\n",
    "       <!--align=\"left\"-->\n",
    "</div>\n",
    "\n",
    "<br/>\n",
    "\n",
    "<div>\n",
    "\n",
    "&lt;tangent&gt;\n",
    "\n",
    "For some reason, I thought that one of the hidden layer nodes was missing one connection to the output layer. Now, I don't see that situation in her image or mine.\n",
    "\n",
    "In _this_ picture:\n",
    "\n",
    "https://upload.wikimedia.org/wikipedia/commons/thumb/9/99/Neural_network_example.svg/1200px-Neural_network_example.svg.png\n",
    "    \n",
    "</div>\n",
    "\n",
    "<br/>\n",
    "\n",
    "<div>\n",
    "  <img src=\"https://upload.wikimedia.org/wikipedia/commons/thumb/9/99/Neural_network_example.svg/1200px-Neural_network_example.svg.png\"\n",
    "       alt=\"A not-dense layer\"\n",
    "       width=\"200px\">\n",
    "       <!--align=\"left\"-->\n",
    "</div>\n",
    "\n",
    "<br/>\n",
    "\n",
    "<div>\n",
    "\n",
    "things aren't fully connected, so it wouldn't be a dense layer (if I understand correctly).\n",
    "\n",
    "&lt;/tangent&gt;\n",
    "\n",
    "</div>\n",
    "\n",
    "Hahaha, working on therapy. TINN for getting her actual screen, even if it would be easy.\n",
    "\n",
    "Code in the cell above this cell represents the setup of a sequential neural network - one layer after another after another.\n",
    "\n",
    "Dense layer is most basic used in a neural network - connects all of its inputs to each output.\n",
    "\n",
    "Below is the code as it appears on her screen."
   ]
  },
  {
   "cell_type": "code",
   "execution_count": 4,
   "id": "bb2789bb",
   "metadata": {},
   "outputs": [],
   "source": [
    "from keras.models import Sequential\n",
    "from keras.layers import Dense, Activation\n",
    "\n",
    "model = Sequential([\n",
    "    Dense(32, input_shape=(10,), activation=\"relu\"),\n",
    "    Dense(2, activation=\"softmax\")\n",
    "])"
   ]
  },
  {
   "cell_type": "markdown",
   "id": "f2126e54",
   "metadata": {},
   "source": [
    "#### More Notes\n",
    "\n",
    "I have already been more specific above, in the code after the lesson-title cell. Now, below, I annotate it to highlight the different parameters of the Dense layersnand their characteristics (as their own characteristics and as they compare between the two layers)."
   ]
  },
  {
   "cell_type": "code",
   "execution_count": 5,
   "id": "b5f808a1",
   "metadata": {},
   "outputs": [],
   "source": [
    "from keras.models import Sequential\n",
    "from keras.layers import Dense, Activation\n",
    "\n",
    "model = Sequential(\n",
    "                   [\n",
    "        #1#  The input layer has 10 neurons and only appears\n",
    "        #1#+ as a parameter to the `input_shape` parameter.)\n",
    "        Dense(32, input_shape=(10,         ), activation=\"relu\"),   #2#\n",
    "                                  #^blank^#                         #2#\n",
    "        Dense(2,                              activation=\"softmax\") #3#\n",
    "                 #^blank^#                                          #3#\n",
    "                    ]\n",
    "                   )"
   ]
  },
  {
   "cell_type": "markdown",
   "id": "51ddefa7",
   "metadata": {},
   "source": [
    "<hr/><hr/>\n",
    "\n",
    "### Video/Lesson 04: Layers in a Neural Network explained\n",
    "\n",
    "https://www.youtube.com/watch?v=FK77zZxaBoI\n",
    "\n",
    "2023-03-03 : Using TOATC and QAR (The OCD and Anxiety Treatment Center; Quick And Reckless). Minimum required is writing down her code, _maybe_ doing some commentary on the code, and writing notes _after_ the lesson. Praying for help.\n",
    "\n",
    "By the way, the code from her screen is shown below."
   ]
  },
  {
   "cell_type": "code",
   "execution_count": 6,
   "id": "392845b7",
   "metadata": {},
   "outputs": [],
   "source": [
    "#  Code from her screen. Remember to be in the correct conda env.\n",
    "#+ Continuing 2023-03-04 (I lost some stuff, but I'll live)\n",
    "from keras.models import Sequential\n",
    "from keras.layers import Dense, Activation\n",
    "\n",
    "model = Sequential([\n",
    "    Dense(5, input_shape=(3,), activation=\"relu\"),\n",
    "    Dense(2, activation=\"softmax\")\n",
    "])"
   ]
  },
  {
   "cell_type": "markdown",
   "id": "8bfb42cb",
   "metadata": {},
   "source": [
    "`#space`"
   ]
  },
  {
   "cell_type": "code",
   "execution_count": 7,
   "id": "1db8e6a5",
   "metadata": {},
   "outputs": [
    {
     "data": {
      "text/plain": [
       "(10,)"
      ]
     },
     "execution_count": 7,
     "metadata": {},
     "output_type": "execute_result"
    }
   ],
   "source": [
    "#  she puts a white rectangle over the top of this\n",
    "#+ after a first part of the video (?)\n",
    "import numpy as np\n",
    "a = np.array([0,0,1,1,1,1,1,1,1,1])\n",
    "a.shape"
   ]
  },
  {
   "cell_type": "markdown",
   "id": "17133557",
   "metadata": {},
   "source": [
    "`#space`"
   ]
  },
  {
   "cell_type": "code",
   "execution_count": 8,
   "id": "ce68c10c",
   "metadata": {},
   "outputs": [
    {
     "data": {
      "text/plain": [
       "<matplotlib.image.AxesImage at 0x22fac9372b0>"
      ]
     },
     "execution_count": 8,
     "metadata": {},
     "output_type": "execute_result"
    },
    {
     "data": {
      "image/png": "[encoded data removed]",
      "text/plain": [
       "<Figure size 640x480 with 1 Axes>"
      ]
     },
     "metadata": {},
     "output_type": "display_data"
    }
   ],
   "source": [
    "import numpy as np\n",
    "from scipy import ndimage\n",
    "import imageio\n",
    "import matplotlib.pyplot as plt\n",
    "%matplotlib inline\n",
    "\n",
    "##1##\n",
    "## code as on screen\n",
    "#img = np.expand_dims(ndimage.imread(\"NN.PNG\"), 0)\n",
    "## error cf. https://stackoverflow.com/a/66632739/6505499\n",
    "## \n",
    "##endof: 1##\n",
    "\n",
    "# I thought this might create \"NN.PNG\" (despite `imread`),\n",
    "#+ but it doesn't. I want to try out the `%matplotlib inline`\n",
    "#+ magic function (I think I heard it called that), so I'll\n",
    "#+ save the image of the network as \"NN.PNG\".\n",
    "img = np.expand_dims(imageio.v2.imread(\"NN.PNG\"), 0)\n",
    "plt.imshow(img[0])"
   ]
  },
  {
   "cell_type": "markdown",
   "id": "9765256b",
   "metadata": {},
   "source": [
    "List of Layer Types.\n",
    "\n",
    "- Dense (or fully connected) Layers.<br/>  Possible use:\n",
    "\n",
    "- Convolutional Layers.<br/>  Possible use: work with image data\n",
    "\n",
    "- Pooling Layers.<br/>  Possible use:\n",
    "\n",
    "- Recurrent Layers.<br/>  Possible use: time series data\n",
    "\n",
    "- Normalization Layers.<br/>  Possible use:\n",
    "\n",
    "- ... many others ...<br/>\n",
    "\n",
    "<br/>\n",
    "\n",
    "Weight on a connection gives the strength of that connection.\n",
    "\n",
    "Sum of the weights that come to it is computed at the ending node, then passed to an activation function.\n",
    "\n",
    "Will continually work to optiize weights.\n",
    "\n",
    "For this one, we could use categories: two nodes, one for cat, one for dog.\n",
    "\n",
    "<hr/>\n",
    "\n",
    "Wait, this time she has the image with a not-fully-connected (not dense) layer.\n",
    "\n",
    "https://www.youtube.com/watch?v=FK77zZxaBoI&time=104s\n",
    "\n",
    "```\n",
    "#  Tried using the base-64 representation, from\n",
    "#+ https://www.base64-image.de/\n",
    "#+ but that was way too many characters.\n",
    "#+ this_ref = \"https://mljar.com/blog/jupyter-notebook-insert-image/\"\n",
    "#+ this_archived_ref = \"https://web.archive.org/web/20230303210702/\" + \\\n",
    "#+ \"https://mljar.com/blog/jupyter-notebook-insert-image/\" \n",
    "```\n",
    "\n",
    "<div>\n",
    "  <br/>\n",
    "  <img src=\"./p01_not_dense__without_annotation.png\" \n",
    "       alt=\"A screencap with the offending network; just the image for inspection\"\n",
    "       width=\"500px\">\n",
    "       <!--align=\"left\"-->\n",
    "  <br/>\n",
    "</div>\n",
    "\n",
    "<br/>\n",
    "\n",
    "Now, we'll put it the missing connection with a dashed red line.\n",
    "\n",
    "<div>\n",
    "  <br/>\n",
    "  <img src=\"./p02_not_dense__with_annotation.png\"\n",
    "       alt=\"A screencap with the offending network; the red, dashed line shows where the missing connection should be\"\n",
    "       width=\"500px\">\n",
    "       <!--align=\"left\"-->\n",
    "  <!-- did not work:\n",
    "       ![A screencap with the offending network; the red, dashed line shows where the missing connection should be](./p02_not_dense__with_annotation.png){width=500px} -->\n",
    "  <br/>\n",
    "</div>\n",
    "\n",
    "<br/>\n",
    "\n",
    "```\n",
    "#  For sizing stuff\n",
    "sizing_ref = \"https://stackoverflow.com/questions/\" + \\\n",
    "#+           \"14675913/changing-image-size-in-markdown\" + \\\n",
    "#+           \"#comment132190945_14675913\"\n",
    "sizing_archived_ref=\"https://web.archive.org/web/\" + \\\n",
    "                    \"20230303212436/https://stackoverflow.com/\" + \\\n",
    "                    \"questions/14675913/changing-image-size-in-markdown\"\n",
    "```\n",
    "\n",
    "Anyway, above is her code. We'll see if I get the messed-up image (missing a connection) that she gets.\n",
    "\n",
    "**2023-03-04**\n",
    "She describes that we only need to give the input shape to the first layer after our data. That way, the model knows what's coming in. The model will infer the rest of the shape (at least for sequential, as DWB understands it.\n",
    "\n",
    "From the transcript (far from perfect). Therapy stuff. NOt putting in the punctuation.\n",
    "\n",
    "> Notice in this next layer we're not putting an input shape that's because only the first layer within the sequential model requires an input shape because our model needs to understand the shape of the data that it's initially going to be dealing with you don't have to specify the shape for the next layers and hidden or output or any other hidden layers that would come in between because the model will be able to infer it's just the initial data being passed into the model for our input that we have to specify the input shape for"
   ]
  },
  {
   "cell_type": "code",
   "execution_count": 9,
   "id": "df67b47c",
   "metadata": {},
   "outputs": [],
   "source": [
    "#  More comments on parameter-explanation code\n",
    "#+ from last time with some new things learned.\n",
    "#+ Notice that numbers are different than those\n",
    "#+ in this, current lesson\n",
    "\n",
    "from keras.models import Sequential\n",
    "from keras.layers import Dense, Activation\n",
    "\n",
    "model = Sequential(\n",
    "                   [\n",
    "        #1#  The input layer has 10 neurons and only appears\n",
    "        #1#+ as a parameter to the `input_shape` parameter.)\n",
    "        Dense(32, input_shape=(10,         ), activation=\"relu\"),   #2#\n",
    "                                  #^blank^#                         #2#\n",
    "        Dense(2,                              activation=\"softmax\") #3#\n",
    "                 #^blank^#                                          #3#\n",
    "                 #  The shape is only needed for the input;#        #3#\n",
    "                 #+ the subsequent layers can figure it out#        #3#\n",
    "                    ]\n",
    "                   )"
   ]
  },
  {
   "cell_type": "code",
   "execution_count": 10,
   "id": "0a9326aa",
   "metadata": {},
   "outputs": [],
   "source": [
    "# Naming variables for her code.\n",
    "# Code from her screen. Remember to be in the correct conda env\n",
    "from keras.models import Sequential\n",
    "from keras.layers import Dense, Activation\n",
    "\n",
    "model = Sequential([\n",
    "    Dense(5, input_shape=(3,), activation=\"relu\"),\n",
    "    Dense(2, activation=\"softmax\")\n",
    "])"
   ]
  },
  {
   "cell_type": "markdown",
   "id": "27a7e809",
   "metadata": {},
   "source": [
    "<hr/><hr/>\n",
    "\n",
    "### Video/Lesson 05: Activation Functions in a Neural Network explained\n",
    "\n",
    "https://www.youtube.com/watch?v=m0pIlLfpXWE"
   ]
  },
  {
   "cell_type": "code",
   "execution_count": 11,
   "id": "97f82dc5",
   "metadata": {},
   "outputs": [
    {
     "name": "stdout",
     "output_type": "stream",
     "text": [
      "Code entry here.\n"
     ]
    }
   ],
   "source": [
    "print(\"Code entry here.\")"
   ]
  },
  {
   "cell_type": "markdown",
   "id": "deaa640c",
   "metadata": {},
   "source": []
  },
  {
   "cell_type": "markdown",
   "id": "ea5bcb33",
   "metadata": {},
   "source": [
    "<hr/><hr/>\n",
    "\n",
    "### Video/Lesson 06: Training a Neural Network explained\n",
    "\n",
    "https://www.youtube.com/watch?v=sZAlS3_dnk0"
   ]
  },
  {
   "cell_type": "code",
   "execution_count": 12,
   "id": "e6f33c67",
   "metadata": {},
   "outputs": [
    {
     "name": "stdout",
     "output_type": "stream",
     "text": [
      "Code entry here.\n"
     ]
    }
   ],
   "source": [
    "print(\"Code entry here.\")"
   ]
  },
  {
   "cell_type": "markdown",
   "id": "9a0664fa",
   "metadata": {},
   "source": [
    "<hr/><hr/>\n",
    "\n",
    "### Video/Lesson 07: How a Neural Network Learns explained\n",
    "\n",
    "https://www.youtube.com/watch?v=_N5kpSMDf4o"
   ]
  },
  {
   "cell_type": "code",
   "execution_count": null,
   "id": "af61ced1",
   "metadata": {},
   "outputs": [],
   "source": [
    "print(\"Code entry here.\")"
   ]
  },
  {
   "cell_type": "markdown",
   "id": "bd206d0d",
   "metadata": {},
   "source": [
    "<hr/><hr/>\n",
    "\n",
    "### Video/Lesson 08: Loss in a Neural Network explained\n",
    "\n",
    "https://www.youtube.com/watch?v=Skc8nqJirJg"
   ]
  },
  {
   "cell_type": "code",
   "execution_count": null,
   "id": "6ea6995a",
   "metadata": {},
   "outputs": [],
   "source": [
    "print(\"Code entry here.\")"
   ]
  },
  {
   "cell_type": "markdown",
   "id": "7960bc35",
   "metadata": {},
   "source": [
    "<hr/><hr/>\n",
    "\n",
    "### Video/Lesson 09: Learning Rate in a Neural Network explained\n",
    "\n",
    "https://www.youtube.com/watch?v=jWT-AX9677k"
   ]
  },
  {
   "cell_type": "code",
   "execution_count": null,
   "id": "be6a7715",
   "metadata": {},
   "outputs": [],
   "source": [
    "print(\"Code entry here.\")"
   ]
  },
  {
   "cell_type": "markdown",
   "id": "7d80207c",
   "metadata": {},
   "source": [
    "<hr/><hr/>\n",
    "\n",
    "### Video/Lesson 10: Train, Test, & Validation Sets explained\n",
    "\n",
    "https://www.youtube.com/watch?v=Zi-0rlM4RDs"
   ]
  },
  {
   "cell_type": "code",
   "execution_count": null,
   "id": "09bd1800",
   "metadata": {},
   "outputs": [],
   "source": [
    "print(\"Code entry here.\")"
   ]
  },
  {
   "cell_type": "markdown",
   "id": "f1b4074a",
   "metadata": {},
   "source": [
    "<hr/><hr/>\n",
    "\n",
    "### Video/Lesson 11: Predicting with a Neural Network explained\n",
    "\n",
    "https://www.youtube.com/watch?v=Z0KVRdE_a7Q"
   ]
  },
  {
   "cell_type": "code",
   "execution_count": null,
   "id": "43707c1f",
   "metadata": {},
   "outputs": [],
   "source": [
    "print(\"Code entry here.\")"
   ]
  },
  {
   "cell_type": "markdown",
   "id": "225424c2",
   "metadata": {},
   "source": [
    "<hr/><hr/>\n",
    "\n",
    "### Video/Lesson 12: Overfitting in a Neural Network explained\n",
    "\n",
    "https://www.youtube.com/watch?v=DEMmkFC6IGM"
   ]
  },
  {
   "cell_type": "code",
   "execution_count": null,
   "id": "00a96f75",
   "metadata": {},
   "outputs": [],
   "source": [
    "print(\"Code entry here.\")"
   ]
  },
  {
   "cell_type": "markdown",
   "id": "f48cb707",
   "metadata": {},
   "source": [
    "<hr/><hr/>\n",
    "\n",
    "### Video/Lesson 13: Underfitting in a Neural Network explained\n",
    "\n",
    "https://www.youtube.com/watch?v=0h8lAm5Ki5g"
   ]
  },
  {
   "cell_type": "code",
   "execution_count": null,
   "id": "cee95e51",
   "metadata": {},
   "outputs": [],
   "source": [
    "print(\"Code entry here.\")"
   ]
  },
  {
   "cell_type": "markdown",
   "id": "e0a6a308",
   "metadata": {},
   "source": [
    "<hr/><hr/>\n",
    "\n",
    "### Video/Lesson 14: Supervised Learning explained\n",
    "\n",
    "https://www.youtube.com/watch?v=Quh6x4kG6VY"
   ]
  },
  {
   "cell_type": "code",
   "execution_count": null,
   "id": "d6a94d9b",
   "metadata": {},
   "outputs": [],
   "source": [
    "print(\"Code entry here.\")"
   ]
  },
  {
   "cell_type": "markdown",
   "id": "92539912",
   "metadata": {},
   "source": [
    "<hr/><hr/>\n",
    "\n",
    "### Video/Lesson 15: Unsupervised Learning explained\n",
    "\n",
    "https://www.youtube.com/watch?v=lEfrr0Yr684"
   ]
  },
  {
   "cell_type": "code",
   "execution_count": null,
   "id": "b646d6de",
   "metadata": {},
   "outputs": [],
   "source": [
    "print(\"Code entry here.\")"
   ]
  },
  {
   "cell_type": "markdown",
   "id": "5767b8f3",
   "metadata": {},
   "source": [
    "<hr/><hr/>\n",
    "\n",
    "### Video/Lesson 16: Semi-supervised Learning explained\n",
    "\n",
    "https://www.youtube.com/watch?v=b-yhKUINb7o"
   ]
  },
  {
   "cell_type": "code",
   "execution_count": null,
   "id": "18181c7f",
   "metadata": {},
   "outputs": [],
   "source": [
    "print(\"Code entry here.\")"
   ]
  },
  {
   "cell_type": "markdown",
   "id": "314a42f7",
   "metadata": {},
   "source": [
    "<hr/><hr/>\n",
    "\n",
    "### Video/Lesson 17: Data Augmentation explained\n",
    "\n",
    "https://www.youtube.com/watch?v=rfM4DaLTkMs"
   ]
  },
  {
   "cell_type": "code",
   "execution_count": null,
   "id": "50015f9c",
   "metadata": {},
   "outputs": [],
   "source": [
    "print(\"Code entry here.\")"
   ]
  },
  {
   "cell_type": "markdown",
   "id": "1a0aa547",
   "metadata": {},
   "source": [
    "<hr/><hr/>\n",
    "\n",
    "### Video/Lesson 18: One-hot Encoding explained\n",
    "\n",
    "https://www.youtube.com/watch?v=v_4KWmkwmsU"
   ]
  },
  {
   "cell_type": "code",
   "execution_count": null,
   "id": "ffad4fcc",
   "metadata": {},
   "outputs": [],
   "source": [
    "print(\"Code entry here.\")"
   ]
  },
  {
   "cell_type": "markdown",
   "id": "4174b22c",
   "metadata": {},
   "source": [
    "<hr/><hr/>\n",
    "\n",
    "### Video/Lesson 19: Convolutional Neural Networks (CNNs) explained\n",
    "\n",
    "https://www.youtube.com/watch?v=YRhxdVk_sIs"
   ]
  },
  {
   "cell_type": "code",
   "execution_count": null,
   "id": "05734544",
   "metadata": {},
   "outputs": [],
   "source": [
    "print(\"Code entry here.\")"
   ]
  },
  {
   "cell_type": "markdown",
   "id": "8eeea87b",
   "metadata": {},
   "source": [
    "<hr/><hr/>\n",
    "\n",
    "### Video/Lesson 20: Convolutions in Deep Learning - Interactive Demo App\n",
    "\n",
    "https://www.youtube.com/watch?v=vJiZqZRkIg8"
   ]
  },
  {
   "cell_type": "code",
   "execution_count": null,
   "id": "f271f733",
   "metadata": {},
   "outputs": [],
   "source": [
    "print(\"Code entry here.\")"
   ]
  },
  {
   "cell_type": "markdown",
   "id": "15eb20f1",
   "metadata": {},
   "source": [
    "<hr/><hr/>\n",
    "\n",
    "### Video/Lesson 21: Visualizing Convolutional Filters from a CNN\n",
    "\n",
    "https://www.youtube.com/watch?v=cNBBNAxC8l4"
   ]
  },
  {
   "cell_type": "code",
   "execution_count": null,
   "id": "937afd22",
   "metadata": {},
   "outputs": [],
   "source": [
    "print(\"Code entry here.\")"
   ]
  },
  {
   "cell_type": "markdown",
   "id": "93a4056a",
   "metadata": {},
   "source": [
    "<hr/><hr/>\n",
    "\n",
    "### Video/Lesson 22: Zero Padding in Convolutional Neural Networks explained\n",
    "\n",
    "https://www.youtube.com/watch?v=qSTv_m-KFk0"
   ]
  },
  {
   "cell_type": "code",
   "execution_count": null,
   "id": "e0e7cb13",
   "metadata": {},
   "outputs": [],
   "source": [
    "print(\"Code entry here.\")"
   ]
  },
  {
   "cell_type": "markdown",
   "id": "08d698d8",
   "metadata": {},
   "source": [
    "<hr/><hr/>\n",
    "\n",
    "### Video/Lesson 23: Max Pooling in Convolutional Neural Networks explained\n",
    "\n",
    "https://www.youtube.com/watch?v=ZjM_XQa5s6s"
   ]
  },
  {
   "cell_type": "code",
   "execution_count": null,
   "id": "c47c8da1",
   "metadata": {},
   "outputs": [],
   "source": [
    "print(\"Code entry here.\")"
   ]
  },
  {
   "cell_type": "markdown",
   "id": "35582662",
   "metadata": {},
   "source": [
    "<hr/><hr/>\n",
    "\n",
    "### Video/Lesson 24: Max Pooling in Deep Learning - Interactive Demo App\n",
    "\n",
    "https://www.youtube.com/watch?v=kt6iUG0Gfm0"
   ]
  },
  {
   "cell_type": "code",
   "execution_count": null,
   "id": "98b28035",
   "metadata": {},
   "outputs": [],
   "source": [
    "print(\"Code entry here.\")"
   ]
  },
  {
   "cell_type": "markdown",
   "id": "b39c0eb6",
   "metadata": {},
   "source": [
    "<hr/><hr/>\n",
    "\n",
    "### Video/Lesson 25: Backpropagation explained | Part 1 - The intuition\n",
    "\n",
    "https://www.youtube.com/watch?v=XE3krf3CQls"
   ]
  },
  {
   "cell_type": "code",
   "execution_count": null,
   "id": "3efce29c",
   "metadata": {},
   "outputs": [],
   "source": [
    "print(\"Code entry here.\")"
   ]
  },
  {
   "cell_type": "markdown",
   "id": "1bac617a",
   "metadata": {},
   "source": [
    "<hr/><hr/>\n",
    "\n",
    "### Video/Lesson 26: Backpropagation explained | Part 2 - The mathematical notation\n",
    "\n",
    "https://www.youtube.com/watch?v=2mSysRx-1c0"
   ]
  },
  {
   "cell_type": "code",
   "execution_count": null,
   "id": "abd7dc41",
   "metadata": {},
   "outputs": [],
   "source": [
    "print(\"Code entry here.\")"
   ]
  },
  {
   "cell_type": "markdown",
   "id": "dcf8522d",
   "metadata": {},
   "source": [
    "<hr/><hr/>\n",
    "\n",
    "### Video/Lesson 27: Backpropagation explained | Part 3 - Mathematical observations\n",
    "\n",
    "https://www.youtube.com/watch?v=G5b4jRBKNxw"
   ]
  },
  {
   "cell_type": "code",
   "execution_count": null,
   "id": "bd9ffb03",
   "metadata": {},
   "outputs": [],
   "source": [
    "print(\"Code entry here.\")"
   ]
  },
  {
   "cell_type": "markdown",
   "id": "3e983f27",
   "metadata": {},
   "source": [
    "<hr/><hr/>\n",
    "\n",
    "### Video/Lesson 28: Backpropagation explained | Part 4 - Calculating the gradient\n",
    "\n",
    "https://www.youtube.com/watch?v=Zr5viAZGnd"
   ]
  },
  {
   "cell_type": "code",
   "execution_count": null,
   "id": "e3d4f2ae",
   "metadata": {},
   "outputs": [],
   "source": [
    "print(\"Code entry here.\")"
   ]
  },
  {
   "cell_type": "markdown",
   "id": "ef88931a",
   "metadata": {},
   "source": [
    "<hr/><hr/>\n",
    "\n",
    "### Video/Lesson 29: Backpropagation explained | Part 5 - What puts the \"back\" in backprop?\n",
    "\n",
    "https://www.youtube.com/watch?v=xClK__CqZnQ"
   ]
  },
  {
   "cell_type": "code",
   "execution_count": null,
   "id": "6f8039f7",
   "metadata": {},
   "outputs": [],
   "source": [
    "print(\"Code entry here.\")"
   ]
  },
  {
   "cell_type": "markdown",
   "id": "20ab322b",
   "metadata": {},
   "source": [
    "<hr/><hr/>\n",
    "\n",
    "### Video/Lesson 30: Vanishing & Exploding Gradient explained | A problem resulting from backpropagation\n",
    "\n",
    "https://www.youtube.com/watch?v=qO_NLVjD6zE"
   ]
  },
  {
   "cell_type": "code",
   "execution_count": null,
   "id": "6ea59ff4",
   "metadata": {},
   "outputs": [],
   "source": [
    "print(\"Code entry here.\")"
   ]
  },
  {
   "cell_type": "markdown",
   "id": "5fa72d15",
   "metadata": {},
   "source": [
    "<hr/><hr/>\n",
    "\n",
    "### Video/Lesson 31: Weight Initialization explained | A way to reduce the vanishing gradient problem\n",
    "\n",
    "https://www.youtube.com/watch?v=8krd5qKVw-Q"
   ]
  },
  {
   "cell_type": "code",
   "execution_count": null,
   "id": "403e18d3",
   "metadata": {},
   "outputs": [],
   "source": [
    "print(\"Code entry here.\")"
   ]
  },
  {
   "cell_type": "markdown",
   "id": "738d42db",
   "metadata": {},
   "source": [
    "<hr/><hr/>\n",
    "\n",
    "### Video/Lesson 32: Bias in an Artificial Neural Network explained | How bias impacts training\n",
    "\n",
    "https://www.youtube.com/watch?v=HetFihsXSys"
   ]
  },
  {
   "cell_type": "code",
   "execution_count": null,
   "id": "8cd15556",
   "metadata": {},
   "outputs": [],
   "source": [
    "print(\"Code entry here.\")"
   ]
  },
  {
   "cell_type": "markdown",
   "id": "1cbde05f",
   "metadata": {},
   "source": [
    "<hr/><hr/>\n",
    "\n",
    "### Video/Lesson 33: Learnable Parameters in an Artificial Neural Network explained\n",
    "\n",
    "https://www.youtube.com/watch?v=pg3hJpSopHQ"
   ]
  },
  {
   "cell_type": "code",
   "execution_count": null,
   "id": "72429ef9",
   "metadata": {},
   "outputs": [],
   "source": [
    "print(\"Code entry here.\")"
   ]
  },
  {
   "cell_type": "markdown",
   "id": "0fe36fd6",
   "metadata": {},
   "source": [
    "<hr/><hr/>\n",
    "\n",
    "### Video/Lesson 34: Regularization in a Neural Network explained\n",
    "\n",
    "https://www.youtube.com/watch?v=iuJgyiS7BKM"
   ]
  },
  {
   "cell_type": "code",
   "execution_count": null,
   "id": "1da57992",
   "metadata": {},
   "outputs": [],
   "source": [
    "print(\"Code entry here.\")"
   ]
  },
  {
   "cell_type": "markdown",
   "id": "8d841660",
   "metadata": {},
   "source": [
    "<hr/><hr/>\n",
    "\n",
    "### Video/Lesson 35: Batch Size in a Neural Network explained\n",
    "\n",
    "https://www.youtube.com/watch?v=U4WB9p6ODjM"
   ]
  },
  {
   "cell_type": "code",
   "execution_count": null,
   "id": "13dfe934",
   "metadata": {},
   "outputs": [],
   "source": [
    "print(\"Code entry here.\")"
   ]
  },
  {
   "cell_type": "markdown",
   "id": "cb4ceb47",
   "metadata": {},
   "source": [
    "<hr/><hr/>\n",
    "\n",
    "### Video/Lesson 36: Fine-tuning a Neural Network explained\n",
    "\n",
    "https://www.youtube.com/watch?v=5T-iXNNiwIs"
   ]
  },
  {
   "cell_type": "code",
   "execution_count": null,
   "id": "8ff14800",
   "metadata": {},
   "outputs": [],
   "source": [
    "print(\"Code entry here.\")"
   ]
  },
  {
   "cell_type": "markdown",
   "id": "f68d66d2",
   "metadata": {},
   "source": [
    "<hr/><hr/>\n",
    "\n",
    "### Video/Lesson 37: Batch Normalization (“batch norm”) explained\n",
    "\n",
    "https://www.youtube.com/watch?v=dXB-KQYkzNU"
   ]
  },
  {
   "cell_type": "code",
   "execution_count": null,
   "id": "f3f7ec6e",
   "metadata": {},
   "outputs": [],
   "source": [
    "print(\"Code entry here.\")"
   ]
  },
  {
   "cell_type": "markdown",
   "id": "5a56767e",
   "metadata": {},
   "source": [
    "<hr/><hr/>\n",
    "\n",
    "### Video/Lesson 38:\n",
    "\n",
    "**I don't know where I lost a lesson/video, but I think I'll find it when I go through doing code and notes.**"
   ]
  },
  {
   "cell_type": "code",
   "execution_count": null,
   "id": "8b31f5b2",
   "metadata": {},
   "outputs": [],
   "source": [
    "print(\"Code entry here.\")"
   ]
  },
  {
   "cell_type": "markdown",
   "id": "6c096c24",
   "metadata": {},
   "source": [
    "<hr/><hr/><hr/>\n",
    "\n",
    "## Notes as I Go Along\n",
    "\n",
    "<hr/>\n",
    "\n"
   ]
  },
  {
   "cell_type": "markdown",
   "id": "a92a5ba1",
   "metadata": {},
   "source": [
    "<hr/><hr/>\n",
    "\n",
    "## Complete I/O\n",
    "\n",
    "Here are some more-detailed (with output) views of the I/O with the commands prompt (CMD)\n",
    "<hr/>"
   ]
  },
  {
   "cell_type": "markdown",
   "id": "ed4efa72",
   "metadata": {},
   "source": []
  },
  {
   "cell_type": "markdown",
   "id": "01f8b40a",
   "metadata": {},
   "source": [
    "### Packages to Install, 2023-02-06\n",
    "\n",
    "#### Shutting down the Jupyter Notebook with multiple <kbd>Ctrl</kbd> + <kbd>c</kbd> calls.\n",
    "\n",
    "\n",
    "\n",
    "\n",
    "#### The installs (installations, if you want to be more prescriptively grammatically correct)\n",
    "\n",
    "\n",
    "\n",
    "<hr/>"
   ]
  },
  {
   "cell_type": "markdown",
   "id": "fb360030",
   "metadata": {},
   "source": [
    "### Video/Lesson 1\n",
    "\n",
    "2023-02-08\n",
    "\n",
    "##### Gory details of the existence of the executables.\n",
    "\n",
    "```PowerShell\n",
    "Windows PowerShell\n",
    "Copyright (C) Microsoft Corporation. All rights reserved.\n",
    "\n",
    "Try the new cross-platform PowerShell https://aka.ms/pscore6\n",
    "\n",
    "PS C:\\Users\\bballdave025> Get-WmiObject -Class Win32_Product `\n",
    "                            -Filter \"Name LIKE '%Visual C++%'\"\n",
    "\n",
    "\n",
    "IdentifyingNumber : {A250E750-DB3F-40C1-8460-8EF77C7582DA}\n",
    "Name              : Microsoft Visual C++ 2022 X86 Additional Runtime - 14.32.31326\n",
    "Vendor            : Microsoft Corporation\n",
    "Version           : 14.32.31326\n",
    "Caption           : Microsoft Visual C++ 2022 X86 Additional Runtime - 14.32.31326\n",
    "\n",
    "IdentifyingNumber : {1D8E6291-B0D5-35EC-8441-6616F567A0F7}\n",
    "Name              : Microsoft Visual C++ 2010  x64 Redistributable - 10.0.40219\n",
    "Vendor            : Microsoft Corporation\n",
    "Version           : 10.0.40219\n",
    "Caption           : Microsoft Visual C++ 2010  x64 Redistributable - 10.0.40219\n",
    "\n",
    "IdentifyingNumber : {8122DAB1-ED4D-3676-BB0A-CA368196543E}\n",
    "Name              : Microsoft Visual C++ 2013 x86 Minimum Runtime - 12.0.40664\n",
    "Vendor            : Microsoft Corporation\n",
    "Version           : 12.0.40664\n",
    "Caption           : Microsoft Visual C++ 2013 x86 Minimum Runtime - 12.0.40664\n",
    "\n",
    "IdentifyingNumber : {F0C3E5D1-1ADE-321E-8167-68EF0DE699A5}\n",
    "Name              : Microsoft Visual C++ 2010  x86 Redistributable - 10.0.40219\n",
    "Vendor            : Microsoft Corporation\n",
    "Version           : 10.0.40219\n",
    "Caption           : Microsoft Visual C++ 2010  x86 Redistributable - 10.0.40219\n",
    "\n",
    "IdentifyingNumber : {53CF6934-A98D-3D84-9146-FC4EDF3D5641}\n",
    "Name              : Microsoft Visual C++ 2013 x64 Minimum Runtime - 12.0.40664\n",
    "Vendor            : Microsoft Corporation\n",
    "Version           : 12.0.40664\n",
    "Caption           : Microsoft Visual C++ 2013 x64 Minimum Runtime - 12.0.40664\n",
    "\n",
    "IdentifyingNumber : {38624EB5-356D-4B08-8357-C33D89A5C0C5}\n",
    "Name              : Microsoft Visual C++ 2022 X64 Additional Runtime - 14.32.31326\n",
    "Vendor            : Microsoft Corporation\n",
    "Version           : 14.32.31326\n",
    "Caption           : Microsoft Visual C++ 2022 X64 Additional Runtime - 14.32.31326\n",
    "\n",
    "IdentifyingNumber : {37B8F9C7-03FB-3253-8781-2517C99D7C00}\n",
    "Name              : Microsoft Visual C++ 2012 x64 Additional Runtime - 11.0.61030\n",
    "Vendor            : Microsoft Corporation\n",
    "Version           : 11.0.61030\n",
    "Caption           : Microsoft Visual C++ 2012 x64 Additional Runtime - 11.0.61030\n",
    "\n",
    "IdentifyingNumber : {54E71599-88E8-4A50-8435-BE40755DB005}\n",
    "Name              : Microsoft Visual C++ 2017 X86 Debug Runtime - 14.16.27033\n",
    "Vendor            : Microsoft Corporation\n",
    "Version           : 14.16.27033\n",
    "Caption           : Microsoft Visual C++ 2017 X86 Debug Runtime - 14.16.27033\n",
    "\n",
    "IdentifyingNumber : {FBB6370A-2B31-4E7F-9046-FEC401A98F12}\n",
    "Name              : Microsoft Visual C++ 2017 X64 Debug Runtime - 14.16.27033\n",
    "Vendor            : Microsoft Corporation\n",
    "Version           : 14.16.27033\n",
    "Caption           : Microsoft Visual C++ 2017 X64 Debug Runtime - 14.16.27033\n",
    "\n",
    "IdentifyingNumber : {010792BA-551A-3AC0-A7EF-0FAB4156C382}\n",
    "Name              : Microsoft Visual C++ 2013 x64 Additional Runtime - 12.0.40664\n",
    "Vendor            : Microsoft Corporation\n",
    "Version           : 12.0.40664\n",
    "Caption           : Microsoft Visual C++ 2013 x64 Additional Runtime - 12.0.40664\n",
    "\n",
    "IdentifyingNumber : {C96241EA-9900-4FE8-85B3-1E238D509DF6}\n",
    "Name              : Microsoft Visual C++ 2022 X64 Minimum Runtime - 14.32.31326\n",
    "Vendor            : Microsoft Corporation\n",
    "Version           : 14.32.31326\n",
    "Caption           : Microsoft Visual C++ 2022 X64 Minimum Runtime - 14.32.31326\n",
    "\n",
    "IdentifyingNumber : {B175520C-86A2-35A7-8619-86DC379688B9}\n",
    "Name              : Microsoft Visual C++ 2012 x86 Additional Runtime - 11.0.61030\n",
    "Vendor            : Microsoft Corporation\n",
    "Version           : 11.0.61030\n",
    "Caption           : Microsoft Visual C++ 2012 x86 Additional Runtime - 11.0.61030\n",
    "\n",
    "IdentifyingNumber : {CF2BEA3C-26EA-32F8-AA9B-331F7E34BA97}\n",
    "Name              : Microsoft Visual C++ 2012 x64 Minimum Runtime - 11.0.61030\n",
    "Vendor            : Microsoft Corporation\n",
    "Version           : 11.0.61030\n",
    "Caption           : Microsoft Visual C++ 2012 x64 Minimum Runtime - 11.0.61030\n",
    "\n",
    "IdentifyingNumber : {D401961D-3A20-3AC7-943B-6139D5BD490A}\n",
    "Name              : Microsoft Visual C++ 2013 x86 Additional Runtime - 12.0.40664\n",
    "Vendor            : Microsoft Corporation\n",
    "Version           : 12.0.40664\n",
    "Caption           : Microsoft Visual C++ 2013 x86 Additional Runtime - 12.0.40664\n",
    "\n",
    "IdentifyingNumber : {BD95A8CD-1D9F-35AD-981A-3E7925026EBB}\n",
    "Name              : Microsoft Visual C++ 2012 x86 Minimum Runtime - 11.0.61030\n",
    "Vendor            : Microsoft Corporation\n",
    "Version           : 11.0.61030\n",
    "Caption           : Microsoft Visual C++ 2012 x86 Minimum Runtime - 11.0.61030\n",
    "\n",
    "IdentifyingNumber : {46E11E7F-01E1-44D0-BB86-C67342D253DD}\n",
    "Name              : Microsoft Visual C++ 2022 X86 Minimum Runtime - 14.32.31326\n",
    "Vendor            : Microsoft Corporation\n",
    "Version           : 14.32.31326\n",
    "Caption           : Microsoft Visual C++ 2022 X86 Minimum Runtime - 14.32.31326\n",
    "\n",
    "\n",
    "\n",
    "PS C:\\Users\\bballdave025>\n",
    "```"
   ]
  },
  {
   "cell_type": "markdown",
   "id": "397d3360",
   "metadata": {},
   "source": [
    "Filler cell."
   ]
  },
  {
   "cell_type": "markdown",
   "id": "11593980",
   "metadata": {},
   "source": [
    "Probably more I/O."
   ]
  },
  {
   "cell_type": "code",
   "execution_count": null,
   "id": "6ad71673",
   "metadata": {},
   "outputs": [],
   "source": []
  }
 ],
 "metadata": {
  "kernelspec": {
   "display_name": "Python 3 (ipykernel)",
   "language": "python",
   "name": "python3"
  },
  "language_info": {
   "codemirror_mode": {
    "name": "ipython",
    "version": 3
   },
   "file_extension": ".py",
   "mimetype": "text/x-python",
   "name": "python",
   "nbconvert_exporter": "python",
   "pygments_lexer": "ipython3",
   "version": "3.8.16"
  }
 },
 "nbformat": 4,
 "nbformat_minor": 5
}
